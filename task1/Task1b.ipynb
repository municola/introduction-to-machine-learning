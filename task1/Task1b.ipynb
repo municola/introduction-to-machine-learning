{
 "cells": [
  {
   "cell_type": "code",
   "execution_count": 1,
   "metadata": {},
   "outputs": [],
   "source": [
    "import pandas as pd\n",
    "import numpy as np\n",
    "import statsmodels.api as sm\n",
    "\n",
    "sample = pd.read_csv('sample.csv')\n",
    "train = pd.read_csv('train.csv')"
   ]
  },
  {
   "cell_type": "code",
   "execution_count": 2,
   "metadata": {},
   "outputs": [],
   "source": [
    "features = np.ones((700,21))"
   ]
  },
  {
   "cell_type": "code",
   "execution_count": 3,
   "metadata": {},
   "outputs": [],
   "source": [
    "train['x6'] = train['x1']**2\n",
    "train['x7'] = train['x2']**2\n",
    "train['x8'] = train['x3']**2\n",
    "train['x9'] = train['x4']**2\n",
    "train['x10'] = train['x5']**2\n",
    "\n",
    "train['x11'] = np.exp(train['x1'])\n",
    "train['x12'] = np.exp(train['x2'])\n",
    "train['x13'] = np.exp(train['x3'])\n",
    "train['x14'] = np.exp(train['x4'])\n",
    "train['x15'] = np.exp(train['x5'])\n",
    "\n",
    "train['x16'] = np.cos(train['x1'])\n",
    "train['x17'] = np.cos(train['x2'])\n",
    "train['x18'] = np.cos(train['x3'])\n",
    "train['x19'] = np.cos(train['x4'])\n",
    "train['x20'] = np.cos(train['x5'])\n",
    "\n",
    "train['x21'] = 1"
   ]
  },
  {
   "cell_type": "code",
   "execution_count": 4,
   "metadata": {},
   "outputs": [
    {
     "name": "stderr",
     "output_type": "stream",
     "text": [
      "/usr/local/lib/python3.5/dist-packages/numpy/core/fromnumeric.py:2389: FutureWarning: Method .ptp is deprecated and will be removed in a future version. Use numpy.ptp instead.\n",
      "  return ptp(axis=axis, out=out, **kwargs)\n"
     ]
    },
    {
     "data": {
      "text/plain": [
       "x1       262.097164\n",
       "x2      -384.341965\n",
       "x3      1844.798154\n",
       "x4      -321.679920\n",
       "x5      2854.011842\n",
       "x6     -1965.259375\n",
       "x7        90.209699\n",
       "x8     -3791.148766\n",
       "x9       553.926346\n",
       "x10    -4873.285572\n",
       "x11     -257.362811\n",
       "x12      378.058148\n",
       "x13    -1838.468980\n",
       "x14      323.077446\n",
       "x15    -2846.464128\n",
       "x16    -4215.319279\n",
       "x17      584.284149\n",
       "x18    -9369.808241\n",
       "x19     1417.226506\n",
       "x20   -12489.139473\n",
       "x21    28316.402606\n",
       "dtype: float64"
      ]
     },
     "execution_count": 4,
     "metadata": {},
     "output_type": "execute_result"
    }
   ],
   "source": [
    "reg = sm.OLS(train['y'], exog=sm.add_constant(train[train.columns[2:23]])).fit()\n",
    "reg.params"
   ]
  },
  {
   "cell_type": "code",
   "execution_count": 5,
   "metadata": {},
   "outputs": [
    {
     "name": "stdout",
     "output_type": "stream",
     "text": [
      "[20.691965855795424, 20.691965855795466, 20.69196585579551, 20.691965855795555, 20.691965855795598]\n"
     ]
    }
   ],
   "source": [
    "from sklearn.metrics import mean_squared_error, make_scorer\n",
    "from sklearn.linear_model import Ridge\n",
    "from sklearn.model_selection import StratifiedKFold, cross_val_score\n",
    "from sklearn.linear_model import LogisticRegression\n",
    "\n",
    "myscorer = make_scorer(mean_squared_error, squared=False)\n",
    "\n",
    "mylambda = [0.001,0.1,1,10,100]\n",
    "newlambda = [0,0,0,0,0]\n",
    "output=[0,0,0,0,0]\n",
    "\n",
    "for i in range(0,50):\n",
    "\n",
    "    for i in range (0,len(mylambda)):\n",
    "        clf = Ridge(alpha=mylambda[i])\n",
    "        scores = cross_val_score(clf, train[train.columns[2:23]], train['y'], cv=10, scoring=myscorer)\n",
    "        output[i] = scores.mean()\n",
    "        \n",
    "    if output[0] == min(output):\n",
    "        newlambda[0] = mylambda[0]\n",
    "        newlambda[4] = mylambda[1]\n",
    "        newlambda[1] = mylambda[0] + (1/4)*(mylambda[1]-mylambda[0])\n",
    "        newlambda[2] = mylambda[0] + (2/4)*(mylambda[1]-mylambda[0])\n",
    "        newlambda[3] = mylambda[0] + (3/4)*(mylambda[1]-mylambda[0])\n",
    "        \n",
    "    if output[1] == min(output):\n",
    "        newlambda[0] = mylambda[0]\n",
    "        newlambda[4] = mylambda[2]\n",
    "        newlambda[1] = mylambda[0] + (1/4)*(mylambda[2]-mylambda[0])\n",
    "        newlambda[2] = mylambda[0] + (2/4)*(mylambda[2]-mylambda[0])\n",
    "        newlambda[3] = mylambda[0] + (3/4)*(mylambda[2]-mylambda[0])\n",
    "        \n",
    "    if output[2] == min(output):\n",
    "        newlambda[0] = mylambda[1]\n",
    "        newlambda[4] = mylambda[3]\n",
    "        newlambda[1] = mylambda[1] + (1/4)*(mylambda[3]-mylambda[1])\n",
    "        newlambda[2] = mylambda[1] + (2/4)*(mylambda[3]-mylambda[1])\n",
    "        newlambda[3] = mylambda[1] + (3/4)*(mylambda[3]-mylambda[1])\n",
    "    \n",
    "    if output[3] == min(output):\n",
    "        newlambda[0] = mylambda[2]\n",
    "        newlambda[4] = mylambda[4]\n",
    "        newlambda[1] = mylambda[2] + (1/4)*(mylambda[4]-mylambda[2])\n",
    "        newlambda[2] = mylambda[2] + (2/4)*(mylambda[4]-mylambda[2])\n",
    "        newlambda[3] = mylambda[2] + (3/4)*(mylambda[4]-mylambda[2])\n",
    "        \n",
    "    if output[4] == min(output):\n",
    "        newlambda[0] = mylambda[3]\n",
    "        newlambda[4] = mylambda[4]\n",
    "        newlambda[1] = mylambda[3] + (1/4)*(mylambda[3]-mylambda[1])\n",
    "        newlambda[2] = mylambda[3] + (2/4)*(mylambda[3]-mylambda[1])\n",
    "        newlambda[3] = mylambda[3] + (3/4)*(mylambda[3]-mylambda[1])\n",
    "        \n",
    "    for i in range(0,5) :\n",
    "        mylambda[i] = newlambda[i]\n",
    "        \n",
    "print(mylambda)\n"
   ]
  },
  {
   "cell_type": "code",
   "execution_count": 9,
   "metadata": {},
   "outputs": [
    {
     "name": "stdout",
     "output_type": "stream",
     "text": [
      "[ 0.32537425 -0.25353647  0.3501765   0.97372814  0.22806434 -0.18480556\n",
      " -0.18068442 -0.0581307  -0.24345183  0.02104711  0.23376967 -0.33881649\n",
      "  0.3218634   0.88219612  0.23545529  0.09143509  0.08952446  0.02902446\n",
      "  0.11982519 -0.01005267  0.        ]\n"
     ]
    }
   ],
   "source": [
    "clf = Ridge(alpha=mylambda[3], max_iter=100000)\n",
    "clf.fit(train[train.columns[2:23]], train['y'])\n",
    "print(clf.coef_)\n",
    "\n",
    "from numpy import asarray\n",
    "from numpy import savetxt\n",
    "\n",
    "savetxt('save.csv', clf.coef_)"
   ]
  },
  {
   "cell_type": "code",
   "execution_count": null,
   "metadata": {},
   "outputs": [],
   "source": []
  }
 ],
 "metadata": {
  "kernelspec": {
   "display_name": "Python 3",
   "language": "python",
   "name": "python3"
  },
  "language_info": {
   "codemirror_mode": {
    "name": "ipython",
    "version": 3
   },
   "file_extension": ".py",
   "mimetype": "text/x-python",
   "name": "python",
   "nbconvert_exporter": "python",
   "pygments_lexer": "ipython3",
   "version": "3.6.10"
  }
 },
 "nbformat": 4,
 "nbformat_minor": 2
}
